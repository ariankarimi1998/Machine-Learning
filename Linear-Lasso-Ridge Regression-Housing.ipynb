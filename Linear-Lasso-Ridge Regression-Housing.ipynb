{
 "cells": [
  {
   "metadata": {},
   "cell_type": "markdown",
   "source": "# Linear, Lasso, Ridge Regression for Housing Data",
   "id": "68b2094fe98ab951"
  },
  {
   "metadata": {},
   "cell_type": "markdown",
   "source": "## Boston Housing Dataset",
   "id": "41fb1d4ebab2c556"
  },
  {
   "cell_type": "code",
   "execution_count": null,
   "id": "initial_id",
   "metadata": {
    "collapsed": true
   },
   "outputs": [],
   "source": [
    "import pandas as pd\n",
    "import numpy as np\n",
    "from sklearn.model_selection import train_test_split\n",
    "from sklearn.linear_model import LinearRegression, Lasso, Ridge\n",
    "from sklearn.metrics import mean_squared_error, r2_score\n",
    "from sklearn.preprocessing import StandardScaler"
   ]
  },
  {
   "metadata": {},
   "cell_type": "markdown",
   "source": "### Load Dataset",
   "id": "1e8e77f4469105a9"
  },
  {
   "metadata": {},
   "cell_type": "code",
   "outputs": [],
   "execution_count": null,
   "source": [
    "data_url = \"http://lib.stat.cmu.edu/datasets/boston\"\n",
    "raw_df = pd.read_csv(data_url, sep=\"\\s+\", skiprows=22, header=None)\n",
    "data = np.hstack([raw_df.values[::2, :], raw_df.values[1::2, :2]])\n",
    "target = raw_df.values[1::2, 2]\n",
    "\n",
    "X = data\n",
    "y = target"
   ],
   "id": "af72c22ce4c4de20"
  },
  {
   "metadata": {},
   "cell_type": "markdown",
   "source": "### Split and Scale Data",
   "id": "8b73bb2b1de9af32"
  },
  {
   "metadata": {},
   "cell_type": "code",
   "outputs": [],
   "execution_count": null,
   "source": [
    "X_train, X_test, y_train, y_test = train_test_split(X, y, test_size=0.2, random_state=42)\n",
    "\n",
    "scaler = StandardScaler()\n",
    "X_train_scaled = scaler.fit_transform(X_train)\n",
    "X_test_scaled = scaler.transform(X_test)"
   ],
   "id": "26db3ed8f216e2ea"
  },
  {
   "metadata": {},
   "cell_type": "markdown",
   "source": "### Linear Regression",
   "id": "4bf59b36250da742"
  },
  {
   "metadata": {},
   "cell_type": "code",
   "outputs": [],
   "execution_count": null,
   "source": [
    "lr = LinearRegression()\n",
    "lr.fit(X_train_scaled, y_train)\n",
    "y_pred = lr.predict(X_test_scaled)\n",
    "print(\"Boston - Linear Regression:\")\n",
    "print(f\"MSE: {mean_squared_error(y_test, y_pred):.2f}, R2: {r2_score(y_test, y_pred):.2f}\")"
   ],
   "id": "569721532ec919cd"
  },
  {
   "metadata": {},
   "cell_type": "markdown",
   "source": "### Lasso Regression",
   "id": "39e49b2a8d7001cd"
  },
  {
   "metadata": {},
   "cell_type": "code",
   "outputs": [],
   "execution_count": null,
   "source": [
    "lasso = Lasso(alpha=0.1)\n",
    "lasso.fit(X_train_scaled, y_train)\n",
    "y_pred = lasso.predict(X_test_scaled)\n",
    "print(\"\\nBoston - Lasso Regression:\")\n",
    "print(f\"MSE: {mean_squared_error(y_test, y_pred):.2f}, R2: {r2_score(y_test, y_pred):.2f}\")\n",
    "print(\"Coefficients:\", lasso.coef_)"
   ],
   "id": "f62f54be0d1c59f3"
  },
  {
   "metadata": {},
   "cell_type": "markdown",
   "source": "### Ridge Regression",
   "id": "8196e9389ada8813"
  },
  {
   "metadata": {},
   "cell_type": "code",
   "outputs": [],
   "execution_count": null,
   "source": [
    "ridge = Ridge(alpha=1.0)\n",
    "ridge.fit(X_train_scaled, y_train)\n",
    "y_pred = ridge.predict(X_test_scaled)\n",
    "print(\"\\nBoston - Ridge Regression:\")\n",
    "print(f\"MSE: {mean_squared_error(y_test, y_pred):.2f}, R2: {r2_score(y_test, y_pred):.2f}\")\n",
    "print(\"Coefficients:\", ridge.coef_)"
   ],
   "id": "a35b1f52d565861c"
  },
  {
   "metadata": {},
   "cell_type": "markdown",
   "source": "## OpenML Housing Dataset",
   "id": "e824b14a08b06301"
  },
  {
   "metadata": {},
   "cell_type": "code",
   "outputs": [],
   "execution_count": null,
   "source": [
    "from sklearn.datasets import fetch_openml\n",
    "from sklearn.preprocessing import StandardScaler, OneHotEncoder\n",
    "from sklearn.compose import ColumnTransformer\n",
    "from sklearn.pipeline import Pipeline"
   ],
   "id": "77128690d4a83f52"
  },
  {
   "metadata": {},
   "cell_type": "markdown",
   "source": "### Load Dataset",
   "id": "f73cdc473a483808"
  },
  {
   "metadata": {},
   "cell_type": "code",
   "outputs": [],
   "execution_count": null,
   "source": [
    "housing = fetch_openml(name=\"house_prices\", as_frame=True, parser='auto')\n",
    "X = housing.data\n",
    "y = housing.target"
   ],
   "id": "409c11df2646b775"
  },
  {
   "metadata": {},
   "cell_type": "markdown",
   "source": "### Split and Scale Data",
   "id": "1a5e734c21ec112d"
  },
  {
   "metadata": {},
   "cell_type": "code",
   "outputs": [],
   "execution_count": null,
   "source": [
    "numeric_features = X.select_dtypes(include=['int64', 'float64']).columns\n",
    "categorical_features = X.select_dtypes(include=['object']).columns\n",
    "\n",
    "numeric_transformer = Pipeline(steps=[('scaler', StandardScaler())])\n",
    "\n",
    "categorical_transformer = Pipeline(steps=[('onehot', OneHotEncoder(handle_unknown='ignore'))])\n",
    "\n",
    "preprocessor = ColumnTransformer(transformers=[('num', numeric_transformer, numeric_features),('cat', categorical_transformer, categorical_features)])\n",
    "\n",
    "X_train, X_test, y_train, y_test = train_test_split(X, y, test_size=0.2, random_state=42)"
   ],
   "id": "8a3e160561e9f0c3"
  },
  {
   "metadata": {},
   "cell_type": "markdown",
   "source": "### Linear Regression\n",
   "id": "669c89617e4c1f59"
  },
  {
   "metadata": {},
   "cell_type": "code",
   "outputs": [],
   "execution_count": null,
   "source": [
    "lr_pipe = Pipeline(steps=[('preprocessor', preprocessor),('regressor', LinearRegression())])\n",
    "lr_pipe.fit(X_train, y_train)\n",
    "y_pred = lr_pipe.predict(X_test)\n",
    "print(\"\\nOpenML House Prices - Linear Regression:\")\n",
    "print(f\"MSE: {mean_squared_error(y_test, y_pred):.2f}, R2: {r2_score(y_test, y_pred):.2f}\")"
   ],
   "id": "eb2d6639b4fd8cb4"
  },
  {
   "metadata": {},
   "cell_type": "markdown",
   "source": "### Lasso Regression",
   "id": "a9bb31223959eb9d"
  },
  {
   "metadata": {},
   "cell_type": "code",
   "outputs": [],
   "execution_count": null,
   "source": [
    "lasso_pipe = Pipeline(steps=[('preprocessor', preprocessor),('regressor', Lasso(alpha=0.1))])\n",
    "lasso_pipe.fit(X_train, y_train)\n",
    "y_pred = lasso_pipe.predict(X_test)\n",
    "print(\"\\nOpenML House Prices - Lasso Regression:\")\n",
    "print(f\"MSE: {mean_squared_error(y_test, y_pred):.2f}, R2: {r2_score(y_test, y_pred):.2f}\")"
   ],
   "id": "a934c6620091016b"
  },
  {
   "metadata": {},
   "cell_type": "markdown",
   "source": "### Ridge Regression",
   "id": "5462ae09edd62ef"
  },
  {
   "metadata": {},
   "cell_type": "code",
   "outputs": [],
   "execution_count": null,
   "source": [
    "ridge_pipe = Pipeline(steps=[('preprocessor', preprocessor), ('regressor', Ridge(alpha=1.0))])\n",
    "ridge_pipe.fit(X_train, y_train)\n",
    "y_pred = ridge_pipe.predict(X_test)\n",
    "print(\"\\nOpenML House Prices - Ridge Regression:\")\n",
    "print(f\"MSE: {mean_squared_error(y_test, y_pred):.2f}, R2: {r2_score(y_test, y_pred):.2f}\")"
   ],
   "id": "52885307ad3597f9"
  },
  {
   "metadata": {},
   "cell_type": "markdown",
   "source": "## California Housing Dataset",
   "id": "f11fb0769c57bc1b"
  },
  {
   "metadata": {},
   "cell_type": "markdown",
   "source": "### Load Dataset",
   "id": "abd5d92515c909a3"
  },
  {
   "metadata": {},
   "cell_type": "code",
   "outputs": [],
   "execution_count": null,
   "source": [
    "from sklearn.datasets import fetch_california_housing\n",
    "\n",
    "housing = fetch_california_housing()\n",
    "X = housing.data\n",
    "y = housing.targe"
   ],
   "id": "8ddf71bb4466863a"
  },
  {
   "metadata": {},
   "cell_type": "markdown",
   "source": "### Split and Scale Data",
   "id": "e01a4fd631eb3394"
  },
  {
   "metadata": {},
   "cell_type": "code",
   "outputs": [],
   "execution_count": null,
   "source": [
    "X_train, X_test, y_train, y_test = train_test_split(X, y, test_size=0.2, random_state=42)\n",
    "\n",
    "scaler = StandardScaler()\n",
    "X_train_scaled = scaler.fit_transform(X_train)\n",
    "X_test_scaled = scaler.transform(X_test)"
   ],
   "id": "71f01dc78896c616"
  },
  {
   "metadata": {},
   "cell_type": "markdown",
   "source": "### Linear Regression",
   "id": "4774f0ff50eb4552"
  },
  {
   "metadata": {},
   "cell_type": "code",
   "outputs": [],
   "execution_count": null,
   "source": [
    "lr = LinearRegression()\n",
    "lr.fit(X_train_scaled, y_train)\n",
    "y_pred = lr.predict(X_test_scaled)\n",
    "print(\"\\nCalifornia Housing - Linear Regression:\")\n",
    "print(f\"MSE: {mean_squared_error(y_test, y_pred):.2f}, R2: {r2_score(y_test, y_pred):.2f}\")"
   ],
   "id": "44efe6938df72427"
  },
  {
   "metadata": {},
   "cell_type": "markdown",
   "source": "### Lasso Regression",
   "id": "dd98e9bf17e6a28e"
  },
  {
   "metadata": {},
   "cell_type": "code",
   "outputs": [],
   "execution_count": null,
   "source": [
    "lasso = Lasso(alpha=0.1)\n",
    "lasso.fit(X_train_scaled, y_train)\n",
    "y_pred = lasso.predict(X_test_scaled)\n",
    "print(\"\\nCalifornia Housing - Lasso Regression:\")\n",
    "print(f\"MSE: {mean_squared_error(y_test, y_pred):.2f}, R2: {r2_score(y_test, y_pred):.2f}\")\n",
    "print(\"Coefficients:\", lasso.coef_)"
   ],
   "id": "a1473b156f1843ab"
  },
  {
   "metadata": {},
   "cell_type": "markdown",
   "source": "### Ridge Regression",
   "id": "a5df2c02e66a55a3"
  },
  {
   "metadata": {},
   "cell_type": "code",
   "outputs": [],
   "execution_count": null,
   "source": [
    "ridge = Ridge(alpha=1.0)\n",
    "ridge.fit(X_train_scaled, y_train)\n",
    "y_pred = ridge.predict(X_test_scaled)\n",
    "print(\"\\nCalifornia Housing - Ridge Regression:\")\n",
    "print(f\"MSE: {mean_squared_error(y_test, y_pred):.2f}, R2: {r2_score(y_test, y_pred):.2f}\")\n",
    "print(\"Coefficients:\", ridge.coef_)"
   ],
   "id": "adeec0e4ebf06860"
  }
 ],
 "metadata": {
  "kernelspec": {
   "display_name": "Python 3",
   "language": "python",
   "name": "python3"
  },
  "language_info": {
   "codemirror_mode": {
    "name": "ipython",
    "version": 2
   },
   "file_extension": ".py",
   "mimetype": "text/x-python",
   "name": "python",
   "nbconvert_exporter": "python",
   "pygments_lexer": "ipython2",
   "version": "2.7.6"
  }
 },
 "nbformat": 4,
 "nbformat_minor": 5
}
